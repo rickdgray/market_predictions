{
 "cells": [
  {
   "cell_type": "code",
   "execution_count": 2,
   "metadata": {},
   "outputs": [],
   "source": [
    "from yahooquery import Ticker\n",
    "import seaborn as sns"
   ]
  },
  {
   "cell_type": "markdown",
   "metadata": {},
   "source": [
    "view test ticker data to compare\\\n",
    "info about Ticker object found here:\\\n",
    "https://yahooquery.dpguthrie.com/guide/ticker/historical/"
   ]
  },
  {
   "cell_type": "code",
   "execution_count": 8,
   "metadata": {},
   "outputs": [
    {
     "data": {
      "text/html": [
       "<div>\n",
       "<style scoped>\n",
       "    .dataframe tbody tr th:only-of-type {\n",
       "        vertical-align: middle;\n",
       "    }\n",
       "\n",
       "    .dataframe tbody tr th {\n",
       "        vertical-align: top;\n",
       "    }\n",
       "\n",
       "    .dataframe thead th {\n",
       "        text-align: right;\n",
       "    }\n",
       "</style>\n",
       "<table border=\"1\" class=\"dataframe\">\n",
       "  <thead>\n",
       "    <tr style=\"text-align: right;\">\n",
       "      <th></th>\n",
       "      <th></th>\n",
       "      <th>high</th>\n",
       "      <th>low</th>\n",
       "      <th>close</th>\n",
       "      <th>open</th>\n",
       "      <th>volume</th>\n",
       "      <th>adjclose</th>\n",
       "      <th>dividends</th>\n",
       "    </tr>\n",
       "    <tr>\n",
       "      <th>symbol</th>\n",
       "      <th>date</th>\n",
       "      <th></th>\n",
       "      <th></th>\n",
       "      <th></th>\n",
       "      <th></th>\n",
       "      <th></th>\n",
       "      <th></th>\n",
       "      <th></th>\n",
       "    </tr>\n",
       "  </thead>\n",
       "  <tbody>\n",
       "    <tr>\n",
       "      <th rowspan=\"5\" valign=\"top\">spy</th>\n",
       "      <th>2017-06-19</th>\n",
       "      <td>244.729996</td>\n",
       "      <td>243.479996</td>\n",
       "      <td>244.660004</td>\n",
       "      <td>243.589996</td>\n",
       "      <td>65123800</td>\n",
       "      <td>225.292404</td>\n",
       "      <td>0.0</td>\n",
       "    </tr>\n",
       "    <tr>\n",
       "      <th>2017-06-20</th>\n",
       "      <td>244.259995</td>\n",
       "      <td>242.990005</td>\n",
       "      <td>243.009995</td>\n",
       "      <td>244.250000</td>\n",
       "      <td>56906400</td>\n",
       "      <td>223.773041</td>\n",
       "      <td>0.0</td>\n",
       "    </tr>\n",
       "    <tr>\n",
       "      <th>2017-06-21</th>\n",
       "      <td>243.589996</td>\n",
       "      <td>242.410004</td>\n",
       "      <td>242.949997</td>\n",
       "      <td>243.460007</td>\n",
       "      <td>55977600</td>\n",
       "      <td>223.717758</td>\n",
       "      <td>0.0</td>\n",
       "    </tr>\n",
       "    <tr>\n",
       "      <th>2017-06-22</th>\n",
       "      <td>243.529999</td>\n",
       "      <td>242.639999</td>\n",
       "      <td>242.839996</td>\n",
       "      <td>242.960007</td>\n",
       "      <td>44148100</td>\n",
       "      <td>223.616455</td>\n",
       "      <td>0.0</td>\n",
       "    </tr>\n",
       "    <tr>\n",
       "      <th>2017-06-23</th>\n",
       "      <td>243.509995</td>\n",
       "      <td>242.470001</td>\n",
       "      <td>243.130005</td>\n",
       "      <td>242.910004</td>\n",
       "      <td>66986800</td>\n",
       "      <td>223.883514</td>\n",
       "      <td>0.0</td>\n",
       "    </tr>\n",
       "  </tbody>\n",
       "</table>\n",
       "</div>"
      ],
      "text/plain": [
       "                         high         low       close        open    volume  \\\n",
       "symbol date                                                                   \n",
       "spy    2017-06-19  244.729996  243.479996  244.660004  243.589996  65123800   \n",
       "       2017-06-20  244.259995  242.990005  243.009995  244.250000  56906400   \n",
       "       2017-06-21  243.589996  242.410004  242.949997  243.460007  55977600   \n",
       "       2017-06-22  243.529999  242.639999  242.839996  242.960007  44148100   \n",
       "       2017-06-23  243.509995  242.470001  243.130005  242.910004  66986800   \n",
       "\n",
       "                     adjclose  dividends  \n",
       "symbol date                               \n",
       "spy    2017-06-19  225.292404        0.0  \n",
       "       2017-06-20  223.773041        0.0  \n",
       "       2017-06-21  223.717758        0.0  \n",
       "       2017-06-22  223.616455        0.0  \n",
       "       2017-06-23  223.883514        0.0  "
      ]
     },
     "execution_count": 8,
     "metadata": {},
     "output_type": "execute_result"
    }
   ],
   "source": [
    "tickers = Ticker('spy', asynchronous=True)\n",
    "\n",
    "df = tickers.history('5y')\n",
    "df.head()"
   ]
  },
  {
   "cell_type": "markdown",
   "metadata": {},
   "source": [
    "test plot real data"
   ]
  },
  {
   "cell_type": "code",
   "execution_count": 17,
   "metadata": {},
   "outputs": [
    {
     "data": {
      "text/plain": [
       "<AxesSubplot:xlabel='date', ylabel='close'>"
      ]
     },
     "execution_count": 17,
     "metadata": {},
     "output_type": "execute_result"
    },
    {
     "data": {
      "image/png": "[encoded data removed]",
      "text/plain": [
       "<Figure size 432x288 with 1 Axes>"
      ]
     },
     "metadata": {},
     "output_type": "display_data"
    }
   ],
   "source": [
    "sns.set_theme(style=\"whitegrid\")\n",
    "sns.lineplot(data=df.close.spy, palette=\"tab10\", linewidth=2.5)"
   ]
  },
  {
   "cell_type": "markdown",
   "metadata": {},
   "source": [
    "set up sarima model"
   ]
  },
  {
   "cell_type": "code",
   "execution_count": null,
   "metadata": {},
   "outputs": [],
   "source": []
  }
 ],
 "metadata": {
  "kernelspec": {
   "display_name": "Python 3.8.3 ('base')",
   "language": "python",
   "name": "python3"
  },
  "language_info": {
   "codemirror_mode": {
    "name": "ipython",
    "version": 3
   },
   "file_extension": ".py",
   "mimetype": "text/x-python",
   "name": "python",
   "nbconvert_exporter": "python",
   "pygments_lexer": "ipython3",
   "version": "3.8.13"
  },
  "orig_nbformat": 4,
  "vscode": {
   "interpreter": {
    "hash": "d47f4998a424d55dc58fe70afcd2acef15fe353a5229414ebeae8762375150aa"
   }
  }
 },
 "nbformat": 4,
 "nbformat_minor": 2
}
